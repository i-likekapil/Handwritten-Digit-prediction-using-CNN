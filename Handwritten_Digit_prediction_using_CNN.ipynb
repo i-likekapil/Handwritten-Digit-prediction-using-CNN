{
  "nbformat": 4,
  "nbformat_minor": 0,
  "metadata": {
    "colab": {
      "name": "Handwritten_Digit_prediction_using_CNN.ipynb",
      "provenance": []
    },
    "kernelspec": {
      "name": "python3",
      "display_name": "Python 3"
    },
    "accelerator": "GPU"
  },
  "cells": [
    {
      "cell_type": "code",
      "metadata": {
        "id": "glpQqklaypG5",
        "colab_type": "code",
        "colab": {
          "base_uri": "https://localhost:8080/",
          "height": 35
        },
        "outputId": "67d82ba0-c770-477c-83cf-79d1ed51de6c"
      },
      "source": [
        "import keras"
      ],
      "execution_count": null,
      "outputs": [
        {
          "output_type": "stream",
          "text": [
            "Using TensorFlow backend.\n"
          ],
          "name": "stderr"
        }
      ]
    },
    {
      "cell_type": "code",
      "metadata": {
        "id": "Ukrg2akXyuUM",
        "colab_type": "code",
        "colab": {}
      },
      "source": [
        "from keras.datasets import mnist"
      ],
      "execution_count": null,
      "outputs": []
    },
    {
      "cell_type": "code",
      "metadata": {
        "id": "md6VYD30yzY9",
        "colab_type": "code",
        "colab": {
          "base_uri": "https://localhost:8080/",
          "height": 54
        },
        "outputId": "fa633a15-8f4b-4b9b-9937-0c0797ed0e1a"
      },
      "source": [
        "data=mnist.load_data()"
      ],
      "execution_count": null,
      "outputs": [
        {
          "output_type": "stream",
          "text": [
            "Downloading data from https://s3.amazonaws.com/img-datasets/mnist.npz\n",
            "11493376/11490434 [==============================] - 1s 0us/step\n"
          ],
          "name": "stdout"
        }
      ]
    },
    {
      "cell_type": "code",
      "metadata": {
        "id": "AjTt6uk5y_Gv",
        "colab_type": "code",
        "colab": {}
      },
      "source": [
        "(train_images, train_labels), (test_images, test_labels) = data"
      ],
      "execution_count": null,
      "outputs": []
    },
    {
      "cell_type": "code",
      "metadata": {
        "id": "DwM_dP43zsjB",
        "colab_type": "code",
        "colab": {
          "base_uri": "https://localhost:8080/",
          "height": 35
        },
        "outputId": "90457113-1a2e-4eba-b723-673c0c1c1d26"
      },
      "source": [
        "len(train_images)"
      ],
      "execution_count": null,
      "outputs": [
        {
          "output_type": "execute_result",
          "data": {
            "text/plain": [
              "60000"
            ]
          },
          "metadata": {
            "tags": []
          },
          "execution_count": 6
        }
      ]
    },
    {
      "cell_type": "code",
      "metadata": {
        "id": "-_csNQCtzv5m",
        "colab_type": "code",
        "colab": {}
      },
      "source": [
        "train_images = train_images.reshape((60000, 28, 28, 1))"
      ],
      "execution_count": null,
      "outputs": []
    },
    {
      "cell_type": "code",
      "metadata": {
        "id": "DgJA1-Ebzz_E",
        "colab_type": "code",
        "colab": {}
      },
      "source": [
        "test_images = test_images.reshape((10000, 28, 28, 1))"
      ],
      "execution_count": null,
      "outputs": []
    },
    {
      "cell_type": "code",
      "metadata": {
        "id": "HRvrJx2Lz49y",
        "colab_type": "code",
        "colab": {}
      },
      "source": [
        "train_images=train_images.astype('float')/255"
      ],
      "execution_count": null,
      "outputs": []
    },
    {
      "cell_type": "code",
      "metadata": {
        "id": "skKtgsNz0X6P",
        "colab_type": "code",
        "colab": {}
      },
      "source": [
        "test_images=test_images.astype('float')/255"
      ],
      "execution_count": null,
      "outputs": []
    },
    {
      "cell_type": "code",
      "metadata": {
        "id": "gkGohJRc0fY6",
        "colab_type": "code",
        "colab": {}
      },
      "source": [
        "from keras.preprocessing import image"
      ],
      "execution_count": null,
      "outputs": []
    },
    {
      "cell_type": "code",
      "metadata": {
        "id": "xNslhf7r0oe6",
        "colab_type": "code",
        "colab": {}
      },
      "source": [
        "import matplotlib.pyplot as plt"
      ],
      "execution_count": null,
      "outputs": []
    },
    {
      "cell_type": "code",
      "metadata": {
        "id": "7XvDW8Ru0qnY",
        "colab_type": "code",
        "colab": {
          "base_uri": "https://localhost:8080/",
          "height": 283
        },
        "outputId": "6e757d84-6dac-4201-faf2-0c2537a3ca65"
      },
      "source": [
        "plt.imshow(image.array_to_img(train_images[11]),cmap='gray')"
      ],
      "execution_count": null,
      "outputs": [
        {
          "output_type": "execute_result",
          "data": {
            "text/plain": [
              "<matplotlib.image.AxesImage at 0x7fa2a6f30d30>"
            ]
          },
          "metadata": {
            "tags": []
          },
          "execution_count": 13
        },
        {
          "output_type": "display_data",
          "data": {
            "image/png": "[encoded data removed]",
            "text/plain": [
              "<Figure size 432x288 with 1 Axes>"
            ]
          },
          "metadata": {
            "tags": [],
            "needs_background": "light"
          }
        }
      ]
    },
    {
      "cell_type": "code",
      "metadata": {
        "id": "zW6WxIFA00te",
        "colab_type": "code",
        "colab": {
          "base_uri": "https://localhost:8080/",
          "height": 35
        },
        "outputId": "75106ba6-cd76-427c-86fe-d483199f05d8"
      },
      "source": [
        "train_labels[11]"
      ],
      "execution_count": null,
      "outputs": [
        {
          "output_type": "execute_result",
          "data": {
            "text/plain": [
              "5"
            ]
          },
          "metadata": {
            "tags": []
          },
          "execution_count": 14
        }
      ]
    },
    {
      "cell_type": "code",
      "metadata": {
        "id": "TdlsSQcb1BMz",
        "colab_type": "code",
        "colab": {}
      },
      "source": [
        "from keras.utils import to_categorical"
      ],
      "execution_count": null,
      "outputs": []
    },
    {
      "cell_type": "code",
      "metadata": {
        "id": "-HPhvBgU1u9v",
        "colab_type": "code",
        "colab": {}
      },
      "source": [
        "train_labels_original = train_labels"
      ],
      "execution_count": null,
      "outputs": []
    },
    {
      "cell_type": "code",
      "metadata": {
        "id": "xnSLLx9q24x1",
        "colab_type": "code",
        "colab": {}
      },
      "source": [
        "train_labels = to_categorical(train_labels)"
      ],
      "execution_count": null,
      "outputs": []
    },
    {
      "cell_type": "code",
      "metadata": {
        "id": "4L8DwqXX28DR",
        "colab_type": "code",
        "colab": {
          "base_uri": "https://localhost:8080/",
          "height": 35
        },
        "outputId": "2caf8020-7b62-40b1-ed38-5e8bd9fa6e43"
      },
      "source": [
        "train_labels[20]"
      ],
      "execution_count": null,
      "outputs": [
        {
          "output_type": "execute_result",
          "data": {
            "text/plain": [
              "array([0., 0., 0., 0., 1., 0., 0., 0., 0., 0.], dtype=float32)"
            ]
          },
          "metadata": {
            "tags": []
          },
          "execution_count": 18
        }
      ]
    },
    {
      "cell_type": "code",
      "metadata": {
        "id": "gG0OOHRq2_px",
        "colab_type": "code",
        "colab": {}
      },
      "source": [
        "test_labels_original=test_labels"
      ],
      "execution_count": null,
      "outputs": []
    },
    {
      "cell_type": "code",
      "metadata": {
        "id": "JY21Q_vb3kmN",
        "colab_type": "code",
        "colab": {}
      },
      "source": [
        "test_labels = to_categorical(test_labels)"
      ],
      "execution_count": null,
      "outputs": []
    },
    {
      "cell_type": "code",
      "metadata": {
        "id": "9_dbap8b3prC",
        "colab_type": "code",
        "colab": {
          "base_uri": "https://localhost:8080/",
          "height": 35
        },
        "outputId": "cd196643-ca34-4aa1-cae3-3ca37df6e3a9"
      },
      "source": [
        "test_labels_original[9]"
      ],
      "execution_count": null,
      "outputs": [
        {
          "output_type": "execute_result",
          "data": {
            "text/plain": [
              "9"
            ]
          },
          "metadata": {
            "tags": []
          },
          "execution_count": 21
        }
      ]
    },
    {
      "cell_type": "code",
      "metadata": {
        "id": "V2vTbHuB3uRr",
        "colab_type": "code",
        "colab": {
          "base_uri": "https://localhost:8080/",
          "height": 35
        },
        "outputId": "2d3b8eb9-aac3-495b-bec3-4142aecdc7e9"
      },
      "source": [
        "test_labels[9]"
      ],
      "execution_count": null,
      "outputs": [
        {
          "output_type": "execute_result",
          "data": {
            "text/plain": [
              "array([0., 0., 0., 0., 0., 0., 0., 0., 0., 1.], dtype=float32)"
            ]
          },
          "metadata": {
            "tags": []
          },
          "execution_count": 22
        }
      ]
    },
    {
      "cell_type": "code",
      "metadata": {
        "id": "vOqwr5S33wLR",
        "colab_type": "code",
        "colab": {}
      },
      "source": [
        "from keras import layers,models"
      ],
      "execution_count": null,
      "outputs": []
    },
    {
      "cell_type": "code",
      "metadata": {
        "id": "ap1fPtSI3-jM",
        "colab_type": "code",
        "colab": {}
      },
      "source": [
        "model=models.Sequential()"
      ],
      "execution_count": null,
      "outputs": []
    },
    {
      "cell_type": "code",
      "metadata": {
        "id": "17pR59nY4RuG",
        "colab_type": "code",
        "colab": {}
      },
      "source": [
        "#add layers to our model"
      ],
      "execution_count": null,
      "outputs": []
    },
    {
      "cell_type": "code",
      "metadata": {
        "id": "xnIdHHf34d6d",
        "colab_type": "code",
        "colab": {}
      },
      "source": [
        "#add convulation layers\n",
        "model.add(layers.Conv2D((32),(3,3),activation ='relu',input_shape=(28,28,1)))"
      ],
      "execution_count": null,
      "outputs": []
    },
    {
      "cell_type": "code",
      "metadata": {
        "id": "SABr57HT5FTQ",
        "colab_type": "code",
        "colab": {
          "base_uri": "https://localhost:8080/",
          "height": 201
        },
        "outputId": "ff2108e4-ed21-4ff5-bb1e-20b708bfd983"
      },
      "source": [
        "model.summary()"
      ],
      "execution_count": null,
      "outputs": [
        {
          "output_type": "stream",
          "text": [
            "Model: \"sequential_1\"\n",
            "_________________________________________________________________\n",
            "Layer (type)                 Output Shape              Param #   \n",
            "=================================================================\n",
            "conv2d_1 (Conv2D)            (None, 26, 26, 32)        320       \n",
            "=================================================================\n",
            "Total params: 320\n",
            "Trainable params: 320\n",
            "Non-trainable params: 0\n",
            "_________________________________________________________________\n"
          ],
          "name": "stdout"
        }
      ]
    },
    {
      "cell_type": "code",
      "metadata": {
        "id": "z0ggK2P85ZNr",
        "colab_type": "code",
        "colab": {}
      },
      "source": [
        "model.add(layers.MaxPooling2D((2,2)))"
      ],
      "execution_count": null,
      "outputs": []
    },
    {
      "cell_type": "code",
      "metadata": {
        "id": "gc-s526J7d2Y",
        "colab_type": "code",
        "colab": {
          "base_uri": "https://localhost:8080/",
          "height": 237
        },
        "outputId": "0ca0af02-3de1-475d-815b-6784834ced78"
      },
      "source": [
        "model.summary()"
      ],
      "execution_count": null,
      "outputs": [
        {
          "output_type": "stream",
          "text": [
            "Model: \"sequential_1\"\n",
            "_________________________________________________________________\n",
            "Layer (type)                 Output Shape              Param #   \n",
            "=================================================================\n",
            "conv2d_1 (Conv2D)            (None, 26, 26, 32)        320       \n",
            "_________________________________________________________________\n",
            "max_pooling2d_1 (MaxPooling2 (None, 13, 13, 32)        0         \n",
            "=================================================================\n",
            "Total params: 320\n",
            "Trainable params: 320\n",
            "Non-trainable params: 0\n",
            "_________________________________________________________________\n"
          ],
          "name": "stdout"
        }
      ]
    },
    {
      "cell_type": "code",
      "metadata": {
        "id": "uVOCmIVR7yMW",
        "colab_type": "code",
        "colab": {}
      },
      "source": [
        "model.add(layers.Conv2D((64),(3,3),activation ='relu'))"
      ],
      "execution_count": null,
      "outputs": []
    },
    {
      "cell_type": "code",
      "metadata": {
        "id": "xv_O72Gb8DiZ",
        "colab_type": "code",
        "colab": {
          "base_uri": "https://localhost:8080/",
          "height": 274
        },
        "outputId": "14239dcc-8ee2-460e-ec65-39252cf8cf69"
      },
      "source": [
        "model.summary()"
      ],
      "execution_count": null,
      "outputs": [
        {
          "output_type": "stream",
          "text": [
            "Model: \"sequential_1\"\n",
            "_________________________________________________________________\n",
            "Layer (type)                 Output Shape              Param #   \n",
            "=================================================================\n",
            "conv2d_1 (Conv2D)            (None, 26, 26, 32)        320       \n",
            "_________________________________________________________________\n",
            "max_pooling2d_1 (MaxPooling2 (None, 13, 13, 32)        0         \n",
            "_________________________________________________________________\n",
            "conv2d_2 (Conv2D)            (None, 11, 11, 64)        18496     \n",
            "=================================================================\n",
            "Total params: 18,816\n",
            "Trainable params: 18,816\n",
            "Non-trainable params: 0\n",
            "_________________________________________________________________\n"
          ],
          "name": "stdout"
        }
      ]
    },
    {
      "cell_type": "code",
      "metadata": {
        "id": "x0QDihTR8GaA",
        "colab_type": "code",
        "colab": {}
      },
      "source": [
        "model.add(layers.MaxPooling2D((2,2)))"
      ],
      "execution_count": null,
      "outputs": []
    },
    {
      "cell_type": "code",
      "metadata": {
        "id": "SBrogF3Y8ZqX",
        "colab_type": "code",
        "colab": {
          "base_uri": "https://localhost:8080/",
          "height": 311
        },
        "outputId": "986c0ae6-4b73-4387-f4e6-08e8e7a94ea1"
      },
      "source": [
        "model.summary()"
      ],
      "execution_count": null,
      "outputs": [
        {
          "output_type": "stream",
          "text": [
            "Model: \"sequential_1\"\n",
            "_________________________________________________________________\n",
            "Layer (type)                 Output Shape              Param #   \n",
            "=================================================================\n",
            "conv2d_1 (Conv2D)            (None, 26, 26, 32)        320       \n",
            "_________________________________________________________________\n",
            "max_pooling2d_1 (MaxPooling2 (None, 13, 13, 32)        0         \n",
            "_________________________________________________________________\n",
            "conv2d_2 (Conv2D)            (None, 11, 11, 64)        18496     \n",
            "_________________________________________________________________\n",
            "max_pooling2d_2 (MaxPooling2 (None, 5, 5, 64)          0         \n",
            "=================================================================\n",
            "Total params: 18,816\n",
            "Trainable params: 18,816\n",
            "Non-trainable params: 0\n",
            "_________________________________________________________________\n"
          ],
          "name": "stdout"
        }
      ]
    },
    {
      "cell_type": "code",
      "metadata": {
        "id": "6VDJtqnh8gtZ",
        "colab_type": "code",
        "colab": {}
      },
      "source": [
        "model.add(layers.Conv2D((64),(3,3),activation ='relu'))"
      ],
      "execution_count": null,
      "outputs": []
    },
    {
      "cell_type": "code",
      "metadata": {
        "id": "31RZeTZH8pHy",
        "colab_type": "code",
        "colab": {
          "base_uri": "https://localhost:8080/",
          "height": 348
        },
        "outputId": "642165bb-2ab7-4a72-8ddf-79666b1e7e02"
      },
      "source": [
        "model.summary()"
      ],
      "execution_count": null,
      "outputs": [
        {
          "output_type": "stream",
          "text": [
            "Model: \"sequential_1\"\n",
            "_________________________________________________________________\n",
            "Layer (type)                 Output Shape              Param #   \n",
            "=================================================================\n",
            "conv2d_1 (Conv2D)            (None, 26, 26, 32)        320       \n",
            "_________________________________________________________________\n",
            "max_pooling2d_1 (MaxPooling2 (None, 13, 13, 32)        0         \n",
            "_________________________________________________________________\n",
            "conv2d_2 (Conv2D)            (None, 11, 11, 64)        18496     \n",
            "_________________________________________________________________\n",
            "max_pooling2d_2 (MaxPooling2 (None, 5, 5, 64)          0         \n",
            "_________________________________________________________________\n",
            "conv2d_3 (Conv2D)            (None, 3, 3, 64)          36928     \n",
            "=================================================================\n",
            "Total params: 55,744\n",
            "Trainable params: 55,744\n",
            "Non-trainable params: 0\n",
            "_________________________________________________________________\n"
          ],
          "name": "stdout"
        }
      ]
    },
    {
      "cell_type": "code",
      "metadata": {
        "id": "JFDQtOjH8xQd",
        "colab_type": "code",
        "colab": {}
      },
      "source": [
        "model.add(layers.Flatten())"
      ],
      "execution_count": null,
      "outputs": []
    },
    {
      "cell_type": "code",
      "metadata": {
        "id": "mwAn6DwW81QG",
        "colab_type": "code",
        "colab": {
          "base_uri": "https://localhost:8080/",
          "height": 384
        },
        "outputId": "de08be32-1bbe-4cf7-94d9-e29396a80047"
      },
      "source": [
        "model.summary()"
      ],
      "execution_count": null,
      "outputs": [
        {
          "output_type": "stream",
          "text": [
            "Model: \"sequential_1\"\n",
            "_________________________________________________________________\n",
            "Layer (type)                 Output Shape              Param #   \n",
            "=================================================================\n",
            "conv2d_1 (Conv2D)            (None, 26, 26, 32)        320       \n",
            "_________________________________________________________________\n",
            "max_pooling2d_1 (MaxPooling2 (None, 13, 13, 32)        0         \n",
            "_________________________________________________________________\n",
            "conv2d_2 (Conv2D)            (None, 11, 11, 64)        18496     \n",
            "_________________________________________________________________\n",
            "max_pooling2d_2 (MaxPooling2 (None, 5, 5, 64)          0         \n",
            "_________________________________________________________________\n",
            "conv2d_3 (Conv2D)            (None, 3, 3, 64)          36928     \n",
            "_________________________________________________________________\n",
            "flatten_1 (Flatten)          (None, 576)               0         \n",
            "=================================================================\n",
            "Total params: 55,744\n",
            "Trainable params: 55,744\n",
            "Non-trainable params: 0\n",
            "_________________________________________________________________\n"
          ],
          "name": "stdout"
        }
      ]
    },
    {
      "cell_type": "code",
      "metadata": {
        "id": "ZDMVr9Iu84Jh",
        "colab_type": "code",
        "colab": {}
      },
      "source": [
        "model.add(layers.Dense(64, activation='relu'))"
      ],
      "execution_count": null,
      "outputs": []
    },
    {
      "cell_type": "code",
      "metadata": {
        "id": "Q0fHA5JX9mOX",
        "colab_type": "code",
        "colab": {
          "base_uri": "https://localhost:8080/",
          "height": 421
        },
        "outputId": "283b9160-91fa-453e-c639-a9d66854d9bc"
      },
      "source": [
        "model.summary()"
      ],
      "execution_count": null,
      "outputs": [
        {
          "output_type": "stream",
          "text": [
            "Model: \"sequential_1\"\n",
            "_________________________________________________________________\n",
            "Layer (type)                 Output Shape              Param #   \n",
            "=================================================================\n",
            "conv2d_1 (Conv2D)            (None, 26, 26, 32)        320       \n",
            "_________________________________________________________________\n",
            "max_pooling2d_1 (MaxPooling2 (None, 13, 13, 32)        0         \n",
            "_________________________________________________________________\n",
            "conv2d_2 (Conv2D)            (None, 11, 11, 64)        18496     \n",
            "_________________________________________________________________\n",
            "max_pooling2d_2 (MaxPooling2 (None, 5, 5, 64)          0         \n",
            "_________________________________________________________________\n",
            "conv2d_3 (Conv2D)            (None, 3, 3, 64)          36928     \n",
            "_________________________________________________________________\n",
            "flatten_1 (Flatten)          (None, 576)               0         \n",
            "_________________________________________________________________\n",
            "dense_1 (Dense)              (None, 64)                36928     \n",
            "=================================================================\n",
            "Total params: 92,672\n",
            "Trainable params: 92,672\n",
            "Non-trainable params: 0\n",
            "_________________________________________________________________\n"
          ],
          "name": "stdout"
        }
      ]
    },
    {
      "cell_type": "code",
      "metadata": {
        "id": "H0o9JFzk9qD2",
        "colab_type": "code",
        "colab": {}
      },
      "source": [
        "model.add(layers.Dense(10, activation='softmax'))"
      ],
      "execution_count": null,
      "outputs": []
    },
    {
      "cell_type": "code",
      "metadata": {
        "id": "m1OBmirh-FRX",
        "colab_type": "code",
        "colab": {
          "base_uri": "https://localhost:8080/",
          "height": 458
        },
        "outputId": "9764086a-247e-426f-b501-43cb16e1abdd"
      },
      "source": [
        "model.summary()"
      ],
      "execution_count": null,
      "outputs": [
        {
          "output_type": "stream",
          "text": [
            "Model: \"sequential_1\"\n",
            "_________________________________________________________________\n",
            "Layer (type)                 Output Shape              Param #   \n",
            "=================================================================\n",
            "conv2d_1 (Conv2D)            (None, 26, 26, 32)        320       \n",
            "_________________________________________________________________\n",
            "max_pooling2d_1 (MaxPooling2 (None, 13, 13, 32)        0         \n",
            "_________________________________________________________________\n",
            "conv2d_2 (Conv2D)            (None, 11, 11, 64)        18496     \n",
            "_________________________________________________________________\n",
            "max_pooling2d_2 (MaxPooling2 (None, 5, 5, 64)          0         \n",
            "_________________________________________________________________\n",
            "conv2d_3 (Conv2D)            (None, 3, 3, 64)          36928     \n",
            "_________________________________________________________________\n",
            "flatten_1 (Flatten)          (None, 576)               0         \n",
            "_________________________________________________________________\n",
            "dense_1 (Dense)              (None, 64)                36928     \n",
            "_________________________________________________________________\n",
            "dense_2 (Dense)              (None, 10)                650       \n",
            "=================================================================\n",
            "Total params: 93,322\n",
            "Trainable params: 93,322\n",
            "Non-trainable params: 0\n",
            "_________________________________________________________________\n"
          ],
          "name": "stdout"
        }
      ]
    },
    {
      "cell_type": "code",
      "metadata": {
        "id": "BZEItcQ1-Gse",
        "colab_type": "code",
        "colab": {}
      },
      "source": [
        "model.compile(loss='categorical_crossentropy', optimizer='rmsprop', metrics=['accuracy'])"
      ],
      "execution_count": null,
      "outputs": []
    },
    {
      "cell_type": "code",
      "metadata": {
        "id": "b8qUJR0K-glJ",
        "colab_type": "code",
        "colab": {
          "base_uri": "https://localhost:8080/",
          "height": 1000
        },
        "outputId": "84e340e2-2b0e-413c-d03c-cac2fd03f675"
      },
      "source": [
        "model.fit(train_images, train_labels, epochs=100, batch_size=64)"
      ],
      "execution_count": null,
      "outputs": [
        {
          "output_type": "stream",
          "text": [
            "Epoch 1/100\n",
            "60000/60000 [==============================] - 4s 75us/step - loss: 3.5697e-04 - accuracy: 0.9999\n",
            "Epoch 2/100\n",
            "60000/60000 [==============================] - 4s 73us/step - loss: 1.6560e-04 - accuracy: 1.0000\n",
            "Epoch 3/100\n",
            "60000/60000 [==============================] - 4s 74us/step - loss: 4.7017e-05 - accuracy: 1.0000\n",
            "Epoch 4/100\n",
            "60000/60000 [==============================] - 4s 73us/step - loss: 4.4139e-04 - accuracy: 0.9999\n",
            "Epoch 5/100\n",
            "60000/60000 [==============================] - 4s 74us/step - loss: 8.2177e-04 - accuracy: 0.9999\n",
            "Epoch 6/100\n",
            "60000/60000 [==============================] - 4s 73us/step - loss: 0.0010 - accuracy: 0.9999\n",
            "Epoch 7/100\n",
            "60000/60000 [==============================] - 4s 74us/step - loss: 6.4573e-04 - accuracy: 0.9999\n",
            "Epoch 8/100\n",
            "60000/60000 [==============================] - 4s 73us/step - loss: 0.0011 - accuracy: 0.9999\n",
            "Epoch 9/100\n",
            "60000/60000 [==============================] - 4s 73us/step - loss: 7.4711e-04 - accuracy: 0.9998\n",
            "Epoch 10/100\n",
            "60000/60000 [==============================] - 4s 72us/step - loss: 0.0011 - accuracy: 0.9999\n",
            "Epoch 11/100\n",
            "60000/60000 [==============================] - 4s 72us/step - loss: 2.0311e-04 - accuracy: 0.9999\n",
            "Epoch 12/100\n",
            "60000/60000 [==============================] - 4s 72us/step - loss: 3.0187e-04 - accuracy: 1.0000\n",
            "Epoch 13/100\n",
            "60000/60000 [==============================] - 4s 72us/step - loss: 1.4212e-05 - accuracy: 1.0000\n",
            "Epoch 14/100\n",
            "60000/60000 [==============================] - 4s 72us/step - loss: 1.9936e-07 - accuracy: 1.0000\n",
            "Epoch 15/100\n",
            "60000/60000 [==============================] - 4s 72us/step - loss: 9.9341e-12 - accuracy: 1.0000\n",
            "Epoch 16/100\n",
            "60000/60000 [==============================] - 4s 72us/step - loss: 0.0000e+00 - accuracy: 1.0000\n",
            "Epoch 17/100\n",
            "60000/60000 [==============================] - 4s 72us/step - loss: 0.0000e+00 - accuracy: 1.0000\n",
            "Epoch 18/100\n",
            "60000/60000 [==============================] - 4s 71us/step - loss: 0.0000e+00 - accuracy: 1.0000\n",
            "Epoch 19/100\n",
            "60000/60000 [==============================] - 4s 73us/step - loss: 0.0000e+00 - accuracy: 1.0000\n",
            "Epoch 20/100\n",
            "60000/60000 [==============================] - 4s 72us/step - loss: 0.0000e+00 - accuracy: 1.0000\n",
            "Epoch 21/100\n",
            "60000/60000 [==============================] - 4s 72us/step - loss: 0.0000e+00 - accuracy: 1.0000\n",
            "Epoch 22/100\n",
            "60000/60000 [==============================] - 4s 72us/step - loss: 0.0000e+00 - accuracy: 1.0000\n",
            "Epoch 23/100\n",
            "60000/60000 [==============================] - 4s 73us/step - loss: 0.0000e+00 - accuracy: 1.0000\n",
            "Epoch 24/100\n",
            "60000/60000 [==============================] - 4s 73us/step - loss: 0.0000e+00 - accuracy: 1.0000\n",
            "Epoch 25/100\n",
            "60000/60000 [==============================] - 4s 74us/step - loss: 0.0000e+00 - accuracy: 1.0000\n",
            "Epoch 26/100\n",
            "60000/60000 [==============================] - 4s 72us/step - loss: 0.0000e+00 - accuracy: 1.0000\n",
            "Epoch 27/100\n",
            "60000/60000 [==============================] - 4s 73us/step - loss: 0.0000e+00 - accuracy: 1.0000\n",
            "Epoch 28/100\n",
            "60000/60000 [==============================] - 4s 73us/step - loss: 0.0000e+00 - accuracy: 1.0000\n",
            "Epoch 29/100\n",
            "60000/60000 [==============================] - 4s 72us/step - loss: 0.0000e+00 - accuracy: 1.0000\n",
            "Epoch 30/100\n",
            "60000/60000 [==============================] - 4s 72us/step - loss: 0.0000e+00 - accuracy: 1.0000\n",
            "Epoch 31/100\n",
            "60000/60000 [==============================] - 4s 72us/step - loss: 0.0000e+00 - accuracy: 1.0000\n",
            "Epoch 32/100\n",
            "60000/60000 [==============================] - 4s 72us/step - loss: 0.0000e+00 - accuracy: 1.0000\n",
            "Epoch 33/100\n",
            "60000/60000 [==============================] - 4s 72us/step - loss: 0.0000e+00 - accuracy: 1.0000\n",
            "Epoch 34/100\n",
            "60000/60000 [==============================] - 4s 72us/step - loss: 0.0000e+00 - accuracy: 1.0000\n",
            "Epoch 35/100\n",
            "60000/60000 [==============================] - 4s 72us/step - loss: 0.0000e+00 - accuracy: 1.0000\n",
            "Epoch 36/100\n",
            "60000/60000 [==============================] - 4s 72us/step - loss: 0.0000e+00 - accuracy: 1.0000\n",
            "Epoch 37/100\n",
            "60000/60000 [==============================] - 4s 72us/step - loss: 0.0000e+00 - accuracy: 1.0000\n",
            "Epoch 38/100\n",
            "60000/60000 [==============================] - 4s 72us/step - loss: 0.0000e+00 - accuracy: 1.0000\n",
            "Epoch 39/100\n",
            "60000/60000 [==============================] - 4s 72us/step - loss: 0.0000e+00 - accuracy: 1.0000\n",
            "Epoch 40/100\n",
            "60000/60000 [==============================] - 4s 72us/step - loss: 0.0000e+00 - accuracy: 1.0000\n",
            "Epoch 41/100\n",
            "60000/60000 [==============================] - 4s 73us/step - loss: 0.0000e+00 - accuracy: 1.0000\n",
            "Epoch 42/100\n",
            "60000/60000 [==============================] - 5s 77us/step - loss: 0.0000e+00 - accuracy: 1.0000\n",
            "Epoch 43/100\n",
            "60000/60000 [==============================] - 5s 78us/step - loss: 0.0000e+00 - accuracy: 1.0000\n",
            "Epoch 44/100\n",
            "60000/60000 [==============================] - 4s 73us/step - loss: 0.0000e+00 - accuracy: 1.0000\n",
            "Epoch 45/100\n",
            "60000/60000 [==============================] - 4s 73us/step - loss: 0.0000e+00 - accuracy: 1.0000\n",
            "Epoch 46/100\n",
            "60000/60000 [==============================] - 4s 73us/step - loss: 0.0000e+00 - accuracy: 1.0000\n",
            "Epoch 47/100\n",
            "60000/60000 [==============================] - 4s 72us/step - loss: 0.0000e+00 - accuracy: 1.0000\n",
            "Epoch 48/100\n",
            "60000/60000 [==============================] - 4s 75us/step - loss: 0.0000e+00 - accuracy: 1.0000\n",
            "Epoch 49/100\n",
            "60000/60000 [==============================] - 4s 73us/step - loss: 0.0000e+00 - accuracy: 1.0000\n",
            "Epoch 50/100\n",
            "60000/60000 [==============================] - 4s 72us/step - loss: 0.0000e+00 - accuracy: 1.0000\n",
            "Epoch 51/100\n",
            "60000/60000 [==============================] - 4s 72us/step - loss: 0.0000e+00 - accuracy: 1.0000\n",
            "Epoch 52/100\n",
            "60000/60000 [==============================] - 4s 72us/step - loss: 0.0000e+00 - accuracy: 1.0000\n",
            "Epoch 53/100\n",
            "60000/60000 [==============================] - 4s 71us/step - loss: 0.0000e+00 - accuracy: 1.0000\n",
            "Epoch 54/100\n",
            "60000/60000 [==============================] - 4s 72us/step - loss: 0.0000e+00 - accuracy: 1.0000\n",
            "Epoch 55/100\n",
            "60000/60000 [==============================] - 4s 72us/step - loss: 0.0000e+00 - accuracy: 1.0000\n",
            "Epoch 56/100\n",
            "60000/60000 [==============================] - 4s 72us/step - loss: 0.0000e+00 - accuracy: 1.0000\n",
            "Epoch 57/100\n",
            "60000/60000 [==============================] - 4s 72us/step - loss: 0.0000e+00 - accuracy: 1.0000\n",
            "Epoch 58/100\n",
            "60000/60000 [==============================] - 4s 72us/step - loss: 0.0000e+00 - accuracy: 1.0000\n",
            "Epoch 59/100\n",
            "60000/60000 [==============================] - 4s 71us/step - loss: 0.0000e+00 - accuracy: 1.0000\n",
            "Epoch 60/100\n",
            "60000/60000 [==============================] - 4s 72us/step - loss: 0.0000e+00 - accuracy: 1.0000\n",
            "Epoch 61/100\n",
            "60000/60000 [==============================] - 4s 72us/step - loss: 0.0000e+00 - accuracy: 1.0000\n",
            "Epoch 62/100\n",
            "60000/60000 [==============================] - 4s 72us/step - loss: 0.0000e+00 - accuracy: 1.0000\n",
            "Epoch 63/100\n",
            "60000/60000 [==============================] - 4s 72us/step - loss: 0.0000e+00 - accuracy: 1.0000\n",
            "Epoch 64/100\n",
            "60000/60000 [==============================] - 4s 73us/step - loss: 0.0000e+00 - accuracy: 1.0000\n",
            "Epoch 65/100\n",
            "60000/60000 [==============================] - 4s 73us/step - loss: 0.0000e+00 - accuracy: 1.0000\n",
            "Epoch 66/100\n",
            "60000/60000 [==============================] - 4s 71us/step - loss: 0.0000e+00 - accuracy: 1.0000\n",
            "Epoch 67/100\n",
            "60000/60000 [==============================] - 4s 72us/step - loss: 0.0000e+00 - accuracy: 1.0000\n",
            "Epoch 68/100\n",
            "60000/60000 [==============================] - 4s 73us/step - loss: 0.0000e+00 - accuracy: 1.0000\n",
            "Epoch 69/100\n",
            "60000/60000 [==============================] - 4s 71us/step - loss: 0.0000e+00 - accuracy: 1.0000\n",
            "Epoch 70/100\n",
            "60000/60000 [==============================] - 4s 71us/step - loss: 0.0000e+00 - accuracy: 1.0000\n",
            "Epoch 71/100\n",
            "60000/60000 [==============================] - 4s 72us/step - loss: 0.0000e+00 - accuracy: 1.0000\n",
            "Epoch 72/100\n",
            "60000/60000 [==============================] - 4s 71us/step - loss: 0.0000e+00 - accuracy: 1.0000\n",
            "Epoch 73/100\n",
            "60000/60000 [==============================] - 4s 71us/step - loss: 0.0000e+00 - accuracy: 1.0000\n",
            "Epoch 74/100\n",
            "60000/60000 [==============================] - 4s 71us/step - loss: 0.0000e+00 - accuracy: 1.0000\n",
            "Epoch 75/100\n",
            "60000/60000 [==============================] - 4s 72us/step - loss: 0.0000e+00 - accuracy: 1.0000\n",
            "Epoch 76/100\n",
            "60000/60000 [==============================] - 4s 71us/step - loss: 0.0000e+00 - accuracy: 1.0000\n",
            "Epoch 77/100\n",
            "60000/60000 [==============================] - 4s 72us/step - loss: 0.0000e+00 - accuracy: 1.0000\n",
            "Epoch 78/100\n",
            "60000/60000 [==============================] - 4s 72us/step - loss: 0.0000e+00 - accuracy: 1.0000\n",
            "Epoch 79/100\n",
            "60000/60000 [==============================] - 4s 72us/step - loss: 0.0000e+00 - accuracy: 1.0000\n",
            "Epoch 80/100\n",
            "60000/60000 [==============================] - 4s 72us/step - loss: 0.0000e+00 - accuracy: 1.0000\n",
            "Epoch 81/100\n",
            "60000/60000 [==============================] - 4s 72us/step - loss: 0.0000e+00 - accuracy: 1.0000\n",
            "Epoch 82/100\n",
            "60000/60000 [==============================] - 4s 72us/step - loss: 0.0000e+00 - accuracy: 1.0000\n",
            "Epoch 83/100\n",
            "60000/60000 [==============================] - 4s 72us/step - loss: 0.0000e+00 - accuracy: 1.0000\n",
            "Epoch 84/100\n",
            "60000/60000 [==============================] - 4s 72us/step - loss: 0.0000e+00 - accuracy: 1.0000\n",
            "Epoch 85/100\n",
            "60000/60000 [==============================] - 4s 72us/step - loss: 0.0000e+00 - accuracy: 1.0000\n",
            "Epoch 86/100\n",
            "60000/60000 [==============================] - 4s 71us/step - loss: 0.0000e+00 - accuracy: 1.0000\n",
            "Epoch 87/100\n",
            "60000/60000 [==============================] - 4s 71us/step - loss: 0.0000e+00 - accuracy: 1.0000\n",
            "Epoch 88/100\n",
            "60000/60000 [==============================] - 4s 72us/step - loss: 0.0000e+00 - accuracy: 1.0000\n",
            "Epoch 89/100\n",
            "60000/60000 [==============================] - 4s 71us/step - loss: 0.0000e+00 - accuracy: 1.0000\n",
            "Epoch 90/100\n",
            "60000/60000 [==============================] - 4s 72us/step - loss: 0.0000e+00 - accuracy: 1.0000\n",
            "Epoch 91/100\n",
            "60000/60000 [==============================] - 4s 71us/step - loss: 0.0000e+00 - accuracy: 1.0000\n",
            "Epoch 92/100\n",
            "60000/60000 [==============================] - 4s 72us/step - loss: 0.0000e+00 - accuracy: 1.0000\n",
            "Epoch 93/100\n",
            "60000/60000 [==============================] - 4s 71us/step - loss: 0.0000e+00 - accuracy: 1.0000\n",
            "Epoch 94/100\n",
            "60000/60000 [==============================] - 4s 72us/step - loss: 0.0000e+00 - accuracy: 1.0000\n",
            "Epoch 95/100\n",
            "60000/60000 [==============================] - 4s 71us/step - loss: 0.0000e+00 - accuracy: 1.0000\n",
            "Epoch 96/100\n",
            "60000/60000 [==============================] - 4s 71us/step - loss: 0.0000e+00 - accuracy: 1.0000\n",
            "Epoch 97/100\n",
            "60000/60000 [==============================] - 4s 72us/step - loss: 0.0000e+00 - accuracy: 1.0000\n",
            "Epoch 98/100\n",
            "60000/60000 [==============================] - 4s 72us/step - loss: 0.0000e+00 - accuracy: 1.0000\n",
            "Epoch 99/100\n",
            "60000/60000 [==============================] - 4s 72us/step - loss: 0.0000e+00 - accuracy: 1.0000\n",
            "Epoch 100/100\n",
            "60000/60000 [==============================] - 4s 72us/step - loss: 0.0000e+00 - accuracy: 1.0000\n"
          ],
          "name": "stdout"
        },
        {
          "output_type": "execute_result",
          "data": {
            "text/plain": [
              "<keras.callbacks.callbacks.History at 0x7fa24a534048>"
            ]
          },
          "metadata": {
            "tags": []
          },
          "execution_count": 46
        }
      ]
    },
    {
      "cell_type": "code",
      "metadata": {
        "id": "88QIfuJG-4-r",
        "colab_type": "code",
        "colab": {
          "base_uri": "https://localhost:8080/",
          "height": 35
        },
        "outputId": "022d7056-d302-4c36-dba5-e079da489b9e"
      },
      "source": [
        "test_loss, test_accuracy = model.evaluate(test_images, test_labels)"
      ],
      "execution_count": null,
      "outputs": [
        {
          "output_type": "stream",
          "text": [
            "10000/10000 [==============================] - 1s 72us/step\n"
          ],
          "name": "stdout"
        }
      ]
    },
    {
      "cell_type": "code",
      "metadata": {
        "id": "qjz-lw6ZBY5W",
        "colab_type": "code",
        "colab": {
          "base_uri": "https://localhost:8080/",
          "height": 35
        },
        "outputId": "2f79ef63-dea1-4579-fb42-8a85485f3cfa"
      },
      "source": [
        "test_loss"
      ],
      "execution_count": null,
      "outputs": [
        {
          "output_type": "execute_result",
          "data": {
            "text/plain": [
              "0.2846312536368189"
            ]
          },
          "metadata": {
            "tags": []
          },
          "execution_count": 54
        }
      ]
    },
    {
      "cell_type": "code",
      "metadata": {
        "id": "6suj8UHWBcqt",
        "colab_type": "code",
        "colab": {
          "base_uri": "https://localhost:8080/",
          "height": 35
        },
        "outputId": "bc5de888-bf05-40b4-d2d7-af377e6dfa77"
      },
      "source": [
        "test_accuracy"
      ],
      "execution_count": null,
      "outputs": [
        {
          "output_type": "execute_result",
          "data": {
            "text/plain": [
              "0.9912999868392944"
            ]
          },
          "metadata": {
            "tags": []
          },
          "execution_count": 55
        }
      ]
    },
    {
      "cell_type": "code",
      "metadata": {
        "id": "qaBxBRBnBedz",
        "colab_type": "code",
        "colab": {}
      },
      "source": [
        "predictions = model.predict(test_images)"
      ],
      "execution_count": null,
      "outputs": []
    },
    {
      "cell_type": "code",
      "metadata": {
        "id": "grzyUueCB7U8",
        "colab_type": "code",
        "colab": {
          "base_uri": "https://localhost:8080/",
          "height": 283
        },
        "outputId": "fe1e0078-6566-414d-dfde-1e3fd1f2ffd4"
      },
      "source": [
        "plt.imshow(image.array_to_img(test_images[1256]),cmap='gray')"
      ],
      "execution_count": null,
      "outputs": [
        {
          "output_type": "execute_result",
          "data": {
            "text/plain": [
              "<matplotlib.image.AxesImage at 0x7fa24a392cf8>"
            ]
          },
          "metadata": {
            "tags": []
          },
          "execution_count": 49
        },
        {
          "output_type": "display_data",
          "data": {
            "image/png": "[encoded data removed]",
            "text/plain": [
              "<Figure size 432x288 with 1 Axes>"
            ]
          },
          "metadata": {
            "tags": [],
            "needs_background": "light"
          }
        }
      ]
    },
    {
      "cell_type": "code",
      "metadata": {
        "id": "hV1ErlgfCLXv",
        "colab_type": "code",
        "colab": {
          "base_uri": "https://localhost:8080/",
          "height": 35
        },
        "outputId": "033b5a7f-3b4c-4415-f9cc-020733e328ec"
      },
      "source": [
        "predictions[1256]"
      ],
      "execution_count": null,
      "outputs": [
        {
          "output_type": "execute_result",
          "data": {
            "text/plain": [
              "array([0., 0., 1., 0., 0., 0., 0., 0., 0., 0.], dtype=float32)"
            ]
          },
          "metadata": {
            "tags": []
          },
          "execution_count": 58
        }
      ]
    },
    {
      "cell_type": "code",
      "metadata": {
        "id": "V0TdM720CQDj",
        "colab_type": "code",
        "colab": {}
      },
      "source": [
        "predictions = model.predict_classes(test_images)"
      ],
      "execution_count": null,
      "outputs": []
    },
    {
      "cell_type": "code",
      "metadata": {
        "id": "jZ70edGkCboL",
        "colab_type": "code",
        "colab": {
          "base_uri": "https://localhost:8080/",
          "height": 35
        },
        "outputId": "cbc03e72-0756-4f54-9e8b-556244797f43"
      },
      "source": [
        "predictions[1256]"
      ],
      "execution_count": null,
      "outputs": [
        {
          "output_type": "execute_result",
          "data": {
            "text/plain": [
              "2"
            ]
          },
          "metadata": {
            "tags": []
          },
          "execution_count": 60
        }
      ]
    },
    {
      "cell_type": "code",
      "metadata": {
        "id": "O1WP2QPlCdg9",
        "colab_type": "code",
        "colab": {
          "base_uri": "https://localhost:8080/",
          "height": 283
        },
        "outputId": "c373b4d7-cd83-4029-eea1-18f4c871e400"
      },
      "source": [
        "plt.imshow(image.array_to_img(test_images[1456]),cmap='gray')"
      ],
      "execution_count": null,
      "outputs": [
        {
          "output_type": "execute_result",
          "data": {
            "text/plain": [
              "<matplotlib.image.AxesImage at 0x7fa24a25a518>"
            ]
          },
          "metadata": {
            "tags": []
          },
          "execution_count": 53
        },
        {
          "output_type": "display_data",
          "data": {
            "image/png": "[encoded data removed]",
            "text/plain": [
              "<Figure size 432x288 with 1 Axes>"
            ]
          },
          "metadata": {
            "tags": [],
            "needs_background": "light"
          }
        }
      ]
    },
    {
      "cell_type": "code",
      "metadata": {
        "id": "tJymxTWwChyP",
        "colab_type": "code",
        "colab": {
          "base_uri": "https://localhost:8080/",
          "height": 35
        },
        "outputId": "16278493-f917-4172-ab53-c28771f6b16e"
      },
      "source": [
        "predictions[1456]"
      ],
      "execution_count": null,
      "outputs": [
        {
          "output_type": "execute_result",
          "data": {
            "text/plain": [
              "6"
            ]
          },
          "metadata": {
            "tags": []
          },
          "execution_count": 54
        }
      ]
    },
    {
      "cell_type": "code",
      "metadata": {
        "id": "E2CkeV1KCm6N",
        "colab_type": "code",
        "colab": {
          "base_uri": "https://localhost:8080/",
          "height": 283
        },
        "outputId": "e3cd23c7-1b42-4d17-cc74-7dc8af8d66e8"
      },
      "source": [
        "plt.imshow(image.array_to_img(test_images[11]),cmap='gray')"
      ],
      "execution_count": null,
      "outputs": [
        {
          "output_type": "execute_result",
          "data": {
            "text/plain": [
              "<matplotlib.image.AxesImage at 0x7f2bae5c89e8>"
            ]
          },
          "metadata": {
            "tags": []
          },
          "execution_count": 64
        },
        {
          "output_type": "display_data",
          "data": {
            "image/png": "[encoded data removed]",
            "text/plain": [
              "<Figure size 432x288 with 1 Axes>"
            ]
          },
          "metadata": {
            "tags": [],
            "needs_background": "light"
          }
        }
      ]
    },
    {
      "cell_type": "code",
      "metadata": {
        "id": "th7McRbQA8_4",
        "colab_type": "code",
        "colab": {
          "base_uri": "https://localhost:8080/",
          "height": 35
        },
        "outputId": "ba6d203f-c638-4400-9a53-64469091418e"
      },
      "source": [
        "test_labels[1456]"
      ],
      "execution_count": null,
      "outputs": [
        {
          "output_type": "execute_result",
          "data": {
            "text/plain": [
              "array([0., 0., 0., 0., 0., 0., 1., 0., 0., 0.], dtype=float32)"
            ]
          },
          "metadata": {
            "tags": []
          },
          "execution_count": 55
        }
      ]
    },
    {
      "cell_type": "code",
      "metadata": {
        "id": "mzejYzFTCwEZ",
        "colab_type": "code",
        "colab": {
          "base_uri": "https://localhost:8080/",
          "height": 35
        },
        "outputId": "040e5dae-5e36-48a8-b357-51579eea6769"
      },
      "source": [
        "predictions[11]"
      ],
      "execution_count": null,
      "outputs": [
        {
          "output_type": "execute_result",
          "data": {
            "text/plain": [
              "6"
            ]
          },
          "metadata": {
            "tags": []
          },
          "execution_count": 65
        }
      ]
    },
    {
      "cell_type": "code",
      "metadata": {
        "id": "2omeHkPYCyAF",
        "colab_type": "code",
        "colab": {
          "base_uri": "https://localhost:8080/",
          "height": 340
        },
        "outputId": "99772d96-892e-44d5-aa18-caf71e36139b"
      },
      "source": [
        "img = image.load_img(path=\"/content/image.png\",grayscale=True,target_size=(28,28,1))\n",
        "\n",
        "img = image.img_to_array(img)\n",
        "plt.imshow(image.array_to_img(img), cmap=\"gray\")\n",
        "img = img.astype('float')/255\n",
        "test_img = img.reshape((1,28,28,1))\n",
        "img_class = model.predict_classes(test_img)\n",
        "prediction = img_class[0]\n",
        "prediction"
      ],
      "execution_count": null,
      "outputs": [
        {
          "output_type": "stream",
          "text": [
            "/usr/local/lib/python3.6/dist-packages/keras_preprocessing/image/utils.py:107: UserWarning: grayscale is deprecated. Please use color_mode = \"grayscale\"\n",
            "  warnings.warn('grayscale is deprecated. Please use '\n"
          ],
          "name": "stderr"
        },
        {
          "output_type": "execute_result",
          "data": {
            "text/plain": [
              "4"
            ]
          },
          "metadata": {
            "tags": []
          },
          "execution_count": 70
        },
        {
          "output_type": "display_data",
          "data": {
            "image/png": "[encoded data removed]",
            "text/plain": [
              "<Figure size 432x288 with 1 Axes>"
            ]
          },
          "metadata": {
            "tags": [],
            "needs_background": "light"
          }
        }
      ]
    },
    {
      "cell_type": "code",
      "metadata": {
        "id": "xMy0m_zmFDBb",
        "colab_type": "code",
        "colab": {
          "base_uri": "https://localhost:8080/",
          "height": 35
        },
        "outputId": "831e70f1-b9ad-45c4-8e44-1dd09d1d5d14"
      },
      "source": [
        "prediction"
      ],
      "execution_count": null,
      "outputs": [
        {
          "output_type": "execute_result",
          "data": {
            "text/plain": [
              "4"
            ]
          },
          "metadata": {
            "tags": []
          },
          "execution_count": 71
        }
      ]
    },
    {
      "cell_type": "code",
      "metadata": {
        "id": "6jZTSmK_FF_J",
        "colab_type": "code",
        "colab": {}
      },
      "source": [
        "model.save('kapil.h5')"
      ],
      "execution_count": null,
      "outputs": []
    },
    {
      "cell_type": "code",
      "metadata": {
        "id": "Uylj4lzTHRAD",
        "colab_type": "code",
        "colab": {}
      },
      "source": [
        ""
      ],
      "execution_count": null,
      "outputs": []
    }
  ]
}